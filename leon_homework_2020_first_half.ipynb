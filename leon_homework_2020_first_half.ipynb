{
 "cells": [
  {
   "cell_type": "markdown",
   "metadata": {},
   "source": [
    "# PROBLEM 1 \n",
    "    There are students in this class whose names and grades are assembled to build the following list:\n",
    "\n",
    "    python students = [['Harry', 37.21], ['Berry', 37.21], ['Tina', 37.2], ['Akriti', 41], ['Harsh', 39]]\n",
    "\n",
    "    The lowest grade of belongs to Tina. The second lowest grade of belongs to both Harry and Berry, so we order         their names alphabetically and print each name on a new line."
   ]
  },
  {
   "cell_type": "code",
   "execution_count": 2,
   "metadata": {},
   "outputs": [
    {
     "data": {
      "text/plain": [
       "[['Prashant', 32], ['Pallavi', 36], ['Dheeraj', 39], ['Shivam', 40]]"
      ]
     },
     "execution_count": 2,
     "metadata": {},
     "output_type": "execute_result"
    }
   ],
   "source": [
    "students = [['Prashant', 32], ['Pallavi', 36], ['Dheeraj',39], ['Shivam', 40]]\n",
    "students\n"
   ]
  },
  {
   "cell_type": "code",
   "execution_count": 3,
   "metadata": {},
   "outputs": [
    {
     "name": "stdout",
     "output_type": "stream",
     "text": [
      "32\n",
      "None\n",
      "32\n",
      "36\n",
      "Pallavi\n"
     ]
    }
   ],
   "source": [
    "lowest_grade = None\n",
    "second_lowest_grade = None\n",
    "full_list = []\n",
    "\n",
    "for parts in students:\n",
    "    if lowest_grade is None or parts[1] < lowest_grade:\n",
    "        lowest_grade = parts[1]\n",
    "\n",
    "print(lowest_grade)\n",
    "print(second_lowest_grade)\n",
    "        \n",
    "for parts2 in students:\n",
    "    if second_lowest_grade is None or (parts2[1] < second_lowest_grade and parts2[1] > lowest_grade):\n",
    "        second_lowest_grade = parts2[1]\n",
    "        if second_lowest_grade == lowest_grade:\n",
    "            second_lowest_grade = None\n",
    "        \n",
    "print(lowest_grade)\n",
    "print(second_lowest_grade)\n",
    "\n",
    "for parts3 in students:\n",
    "    if parts3[1] == second_lowest_grade:\n",
    "        full_list.append(parts3)\n",
    "\n",
    "\n",
    "\n",
    "full_list.sort(key = lambda l:l[0])\n",
    "for new_parts in full_list:\n",
    "    print(new_parts[0])"
   ]
  },
  {
   "cell_type": "markdown",
   "metadata": {},
   "source": [
    "# PROBLEM 2\n",
    "\n",
    "Find the Runner-Up Score!\n",
    "\n",
    "Given the participants' score sheet for your University Sports Day, you are required to find the runner-up score. You are given  scores. Store them in a list and find the score of the runner-up.\n",
    "\n",
    "Given list is [2, 3, 6, 6, 5] . The maximum score is 6, second maximum is 5. Hence, we print 5 as the runner-up score."
   ]
  },
  {
   "cell_type": "code",
   "execution_count": 4,
   "metadata": {},
   "outputs": [],
   "source": [
    "participants = [2, 3, 6, 6, 5]"
   ]
  },
  {
   "cell_type": "code",
   "execution_count": 5,
   "metadata": {},
   "outputs": [
    {
     "name": "stdout",
     "output_type": "stream",
     "text": [
      "5\n"
     ]
    }
   ],
   "source": [
    "list_max = None\n",
    "second_max = None\n",
    "for num in participants:\n",
    "    if list_max is None or num > list_max:\n",
    "        list_max = num\n",
    "for num in participants:\n",
    "    if second_max is None or (num > second_max and num < list_max):\n",
    "        second_max = num\n",
    "        if second_max == list_max:\n",
    "            second_max = None\n",
    "print(second_max)"
   ]
  },
  {
   "cell_type": "markdown",
   "metadata": {},
   "source": [
    "# PROBLEM 3\n",
    "    "
   ]
  },
  {
   "cell_type": "code",
   "execution_count": 6,
   "metadata": {},
   "outputs": [],
   "source": [
    "string = 'ABCDCDC'\n",
    "sub_string = 'CDC'"
   ]
  },
  {
   "cell_type": "code",
   "execution_count": 7,
   "metadata": {},
   "outputs": [
    {
     "name": "stdout",
     "output_type": "stream",
     "text": [
      "2\n"
     ]
    }
   ],
   "source": [
    "count = 0\n",
    "\n",
    "for thing1 in range(0, len(string) - len(sub_string) + 1):\n",
    "    found = False\n",
    "    for thing2 in range(0, len(sub_string)):\n",
    "        if sub_string[thing2] == string[thing2 + thing1]:\n",
    "            found = True            \n",
    "        else:\n",
    "            found = False\n",
    "            break\n",
    "    \n",
    "    if found:\n",
    "        count += 1\n",
    "\n",
    "print(count)"
   ]
  },
  {
   "cell_type": "code",
   "execution_count": 8,
   "metadata": {},
   "outputs": [
    {
     "name": "stdout",
     "output_type": "stream",
     "text": [
      "1\n",
      "2\n",
      "3\n",
      "4\n",
      "5\n",
      "6\n",
      "7\n",
      "8\n"
     ]
    }
   ],
   "source": [
    "for n in range(1,9):\n",
    "    print(n)"
   ]
  },
  {
   "cell_type": "code",
   "execution_count": 9,
   "metadata": {},
   "outputs": [],
   "source": [
    "str1 = 'acdeabccbaf'\n",
    "str2 = 'abc'"
   ]
  },
  {
   "cell_type": "code",
   "execution_count": 10,
   "metadata": {},
   "outputs": [
    {
     "name": "stdout",
     "output_type": "stream",
     "text": [
      "2\n"
     ]
    }
   ],
   "source": [
    "count = 0\n",
    "\n",
    "for i in range(0, len(str1) - len(str2) + 1):\n",
    "    found = False\n",
    "    for j in range(0, len(str2)):\n",
    "        if str2[j] == str1[j + i]:\n",
    "            found = True            \n",
    "        else:\n",
    "            found = False\n",
    "            break\n",
    "    \n",
    "    if found:\n",
    "        count += 1\n",
    "        \n",
    "new_str1 = str1[::-1]\n",
    "\n",
    "for i in range(0, len(new_str1) - len(str2) + 1):\n",
    "    found = False\n",
    "    for j in range(0, len(str2)):\n",
    "        if str2[j] == new_str1[j + i]:\n",
    "            found = True            \n",
    "        else:\n",
    "            found = False\n",
    "            break\n",
    "            \n",
    "    if found:\n",
    "        count += 1\n",
    "\n",
    "print(count)"
   ]
  },
  {
   "cell_type": "markdown",
   "metadata": {},
   "source": [
    "# PROBLEM 4"
   ]
  },
  {
   "cell_type": "code",
   "execution_count": 144,
   "metadata": {},
   "outputs": [],
   "source": [
    "board = [['q', 'w', 'e', 'r', 't', 'y'], \n",
    "         ['a', 's', 'd', 'f', 'g', 'h'], \n",
    "         ['z', 'x', 'c', 'v', 'b', 'n'], \n",
    "         ['y', 'u', 'a', 'd', 'p', 'r'],\n",
    "         ['g', 'f', 't', 'b', 'a', 'g'],\n",
    "         ['o', 'o', 'f', 't', 's', 'g']]"
   ]
  },
  {
   "cell_type": "code",
   "execution_count": 262,
   "metadata": {},
   "outputs": [],
   "source": [
    "word = 'vgy'\n",
    "word_len = len(word)\n",
    "row_len = len(board)\n",
    "column_len = len(board[0])\n",
    "word_found = False"
   ]
  },
  {
   "cell_type": "code",
   "execution_count": 263,
   "metadata": {},
   "outputs": [
    {
     "name": "stdout",
     "output_type": "stream",
     "text": [
      "False\n"
     ]
    }
   ],
   "source": [
    "#横向搜从右到左\n",
    "for row in range(0, row_len):\n",
    "    column = column_len - 1\n",
    "    while column >= word_len - 1:\n",
    "        for j in range(0, word_len):\n",
    "            if board[row][column - j] != word[j]:\n",
    "                word_found = False\n",
    "                break\n",
    "            else:\n",
    "                word_found = True\n",
    "        column -= 1\n",
    "        if word_found:\n",
    "            break\n",
    "    if word_found:\n",
    "        break\n",
    "print(word_found)"
   ]
  },
  {
   "cell_type": "code",
   "execution_count": 264,
   "metadata": {},
   "outputs": [
    {
     "name": "stdout",
     "output_type": "stream",
     "text": [
      "False\n"
     ]
    }
   ],
   "source": [
    "#横向搜从左到右\n",
    "for row in range(0, row_len):\n",
    "    for column in range(0, column_len - word_len + 1):\n",
    "        for i in range(0, word_len):\n",
    "            if board[row][column + i] != word[i]:\n",
    "                word_found = False\n",
    "                break\n",
    "                \n",
    "            else:\n",
    "                word_found = True\n",
    "                \n",
    "        if word_found:\n",
    "            break\n",
    "            \n",
    "    if word_found:\n",
    "        break\n",
    "print(word_found)"
   ]
  },
  {
   "cell_type": "code",
   "execution_count": 265,
   "metadata": {},
   "outputs": [
    {
     "name": "stdout",
     "output_type": "stream",
     "text": [
      "False\n"
     ]
    }
   ],
   "source": [
    "#纵向搜从上到下\n",
    "for column in range(0, column_len):\n",
    "    for row in range(0, row_len - word_len + 1):\n",
    "        for i in range(0, word_len):\n",
    "            if board[row+i][column] != word[i]:\n",
    "                word_found = False\n",
    "                break                \n",
    "            else:\n",
    "                word_found = True                \n",
    "        if word_found:\n",
    "            break            \n",
    "    if word_found:\n",
    "        break\n",
    "print(word_found)"
   ]
  },
  {
   "cell_type": "code",
   "execution_count": 266,
   "metadata": {},
   "outputs": [
    {
     "name": "stdout",
     "output_type": "stream",
     "text": [
      "False\n"
     ]
    }
   ],
   "source": [
    "#纵向搜从下到上\n",
    "for column in range(0, column_len):\n",
    "    for row in range(row_len - 1, word_len - 2, -1):\n",
    "        for i in range(0, word_len):\n",
    "            if board[row-i][column] != word[i]:\n",
    "                word_found = False\n",
    "                break\n",
    "            else:\n",
    "                word_found = True\n",
    "        if word_found:\n",
    "            break\n",
    "    if word_found:\n",
    "        break\n",
    "print(word_found)"
   ]
  },
  {
   "cell_type": "code",
   "execution_count": 267,
   "metadata": {},
   "outputs": [
    {
     "name": "stdout",
     "output_type": "stream",
     "text": [
      "6\n",
      "5\n",
      "4\n",
      "3\n",
      "2\n",
      "1\n",
      "0\n"
     ]
    }
   ],
   "source": [
    "for i in range(6, -1, -1):\n",
    "    print(i)"
   ]
  },
  {
   "cell_type": "code",
   "execution_count": 268,
   "metadata": {},
   "outputs": [
    {
     "name": "stdout",
     "output_type": "stream",
     "text": [
      "5\n",
      "4\n",
      "3\n",
      "2\n"
     ]
    }
   ],
   "source": [
    "for i in range(row_len - 1, word_len - 2, -1):\n",
    "    print(i)"
   ]
  },
  {
   "cell_type": "code",
   "execution_count": 269,
   "metadata": {},
   "outputs": [
    {
     "name": "stdout",
     "output_type": "stream",
     "text": [
      "False\n"
     ]
    }
   ],
   "source": [
    "for i in range(0, row_len - word_len + 1):\n",
    "    for j in range(0, word_len):\n",
    "        if board[i+j][i+j] != word[j]:\n",
    "            word_found = False\n",
    "            break\n",
    "        else:\n",
    "            word_found = True\n",
    "    if word_found:\n",
    "        break\n",
    "print(word_found)"
   ]
  },
  {
   "cell_type": "code",
   "execution_count": 270,
   "metadata": {},
   "outputs": [
    {
     "name": "stdout",
     "output_type": "stream",
     "text": [
      "False\n"
     ]
    }
   ],
   "source": [
    "for i in range(row_len - 1,word_len - 2, -1):\n",
    "    for j in range(0, word_len):\n",
    "        if board[i-j][i-j] != word[j]:\n",
    "            word_found = False\n",
    "            break\n",
    "        else:\n",
    "            word_found = True\n",
    "    if word_found:\n",
    "        break\n",
    "print(word_found)"
   ]
  },
  {
   "cell_type": "code",
   "execution_count": 271,
   "metadata": {},
   "outputs": [],
   "source": [
    "board = [['q', 'w', 'e', 'r', 't', 'y'], \n",
    "         ['a', 's', 'd', 'f', 'g', 'h'], \n",
    "         ['z', 'x', 'c', 'v', 'b', 'n'], \n",
    "         ['y', 'u', 'a', 'd', 'p', 'r'],\n",
    "         ['g', 'f', 't', 'b', 'a', 'g'],\n",
    "         ['o', 'o', 'f', 't', 's', 'g']]"
   ]
  },
  {
   "cell_type": "code",
   "execution_count": 272,
   "metadata": {},
   "outputs": [
    {
     "name": "stdout",
     "output_type": "stream",
     "text": [
      "g\n",
      "a\n",
      "d\n",
      "c\n"
     ]
    }
   ],
   "source": [
    "for i in range(row_len - 1,-1 + word_len - 1,-1):\n",
    "    print(board[i][i])"
   ]
  },
  {
   "cell_type": "code",
   "execution_count": 273,
   "metadata": {},
   "outputs": [
    {
     "name": "stdout",
     "output_type": "stream",
     "text": [
      "False\n"
     ]
    }
   ],
   "source": [
    "for i in range(0, row_len - word_len + 1):\n",
    "    for j in range(0, word_len):\n",
    "        if board[i + j][row_len - 1 - i - j] != word[j]:\n",
    "            word_found = False\n",
    "            break\n",
    "        else:\n",
    "            word_found = True\n",
    "    if word_found:\n",
    "        break\n",
    "print(word_found)        "
   ]
  },
  {
   "cell_type": "code",
   "execution_count": 274,
   "metadata": {},
   "outputs": [
    {
     "name": "stdout",
     "output_type": "stream",
     "text": [
      "True\n"
     ]
    }
   ],
   "source": [
    "for i in range(row_len - 1, word_len - 2, -1):\n",
    "    for j in range(0, word_len):\n",
    "        if board[i - j][row_len - 1 - i + j] != word[j]:\n",
    "            word_found = False\n",
    "            break\n",
    "        else:\n",
    "            word_found = True\n",
    "    if word_found:\n",
    "        break\n",
    "print(word_found) "
   ]
  },
  {
   "cell_type": "code",
   "execution_count": null,
   "metadata": {},
   "outputs": [],
   "source": []
  },
  {
   "cell_type": "code",
   "execution_count": null,
   "metadata": {},
   "outputs": [],
   "source": []
  },
  {
   "cell_type": "code",
   "execution_count": null,
   "metadata": {},
   "outputs": [],
   "source": []
  },
  {
   "cell_type": "code",
   "execution_count": null,
   "metadata": {},
   "outputs": [],
   "source": []
  },
  {
   "cell_type": "code",
   "execution_count": null,
   "metadata": {},
   "outputs": [],
   "source": []
  },
  {
   "cell_type": "code",
   "execution_count": null,
   "metadata": {},
   "outputs": [],
   "source": []
  },
  {
   "cell_type": "code",
   "execution_count": null,
   "metadata": {},
   "outputs": [],
   "source": []
  },
  {
   "cell_type": "code",
   "execution_count": null,
   "metadata": {},
   "outputs": [],
   "source": []
  },
  {
   "cell_type": "code",
   "execution_count": null,
   "metadata": {},
   "outputs": [],
   "source": []
  },
  {
   "cell_type": "code",
   "execution_count": null,
   "metadata": {},
   "outputs": [],
   "source": []
  },
  {
   "cell_type": "code",
   "execution_count": null,
   "metadata": {},
   "outputs": [],
   "source": []
  },
  {
   "cell_type": "code",
   "execution_count": null,
   "metadata": {},
   "outputs": [],
   "source": []
  },
  {
   "cell_type": "code",
   "execution_count": null,
   "metadata": {},
   "outputs": [],
   "source": []
  },
  {
   "cell_type": "code",
   "execution_count": null,
   "metadata": {},
   "outputs": [],
   "source": []
  },
  {
   "cell_type": "code",
   "execution_count": null,
   "metadata": {},
   "outputs": [],
   "source": []
  },
  {
   "cell_type": "code",
   "execution_count": null,
   "metadata": {},
   "outputs": [],
   "source": []
  },
  {
   "cell_type": "code",
   "execution_count": null,
   "metadata": {},
   "outputs": [],
   "source": []
  },
  {
   "cell_type": "code",
   "execution_count": null,
   "metadata": {},
   "outputs": [],
   "source": []
  },
  {
   "cell_type": "code",
   "execution_count": null,
   "metadata": {},
   "outputs": [],
   "source": []
  },
  {
   "cell_type": "code",
   "execution_count": null,
   "metadata": {},
   "outputs": [],
   "source": []
  },
  {
   "cell_type": "code",
   "execution_count": null,
   "metadata": {},
   "outputs": [],
   "source": []
  },
  {
   "cell_type": "code",
   "execution_count": null,
   "metadata": {},
   "outputs": [],
   "source": []
  },
  {
   "cell_type": "code",
   "execution_count": null,
   "metadata": {},
   "outputs": [],
   "source": []
  },
  {
   "cell_type": "code",
   "execution_count": null,
   "metadata": {},
   "outputs": [],
   "source": []
  },
  {
   "cell_type": "code",
   "execution_count": null,
   "metadata": {},
   "outputs": [],
   "source": []
  },
  {
   "cell_type": "code",
   "execution_count": null,
   "metadata": {},
   "outputs": [],
   "source": []
  },
  {
   "cell_type": "code",
   "execution_count": null,
   "metadata": {},
   "outputs": [],
   "source": []
  },
  {
   "cell_type": "code",
   "execution_count": null,
   "metadata": {},
   "outputs": [],
   "source": []
  },
  {
   "cell_type": "code",
   "execution_count": null,
   "metadata": {},
   "outputs": [],
   "source": []
  },
  {
   "cell_type": "code",
   "execution_count": null,
   "metadata": {},
   "outputs": [],
   "source": []
  },
  {
   "cell_type": "code",
   "execution_count": null,
   "metadata": {},
   "outputs": [],
   "source": []
  },
  {
   "cell_type": "code",
   "execution_count": null,
   "metadata": {},
   "outputs": [],
   "source": []
  },
  {
   "cell_type": "code",
   "execution_count": null,
   "metadata": {},
   "outputs": [],
   "source": []
  },
  {
   "cell_type": "code",
   "execution_count": null,
   "metadata": {},
   "outputs": [],
   "source": []
  },
  {
   "cell_type": "code",
   "execution_count": null,
   "metadata": {},
   "outputs": [],
   "source": []
  },
  {
   "cell_type": "code",
   "execution_count": null,
   "metadata": {},
   "outputs": [],
   "source": []
  },
  {
   "cell_type": "code",
   "execution_count": null,
   "metadata": {},
   "outputs": [],
   "source": []
  },
  {
   "cell_type": "code",
   "execution_count": null,
   "metadata": {},
   "outputs": [],
   "source": []
  },
  {
   "cell_type": "code",
   "execution_count": null,
   "metadata": {},
   "outputs": [],
   "source": []
  },
  {
   "cell_type": "code",
   "execution_count": null,
   "metadata": {},
   "outputs": [],
   "source": []
  },
  {
   "cell_type": "code",
   "execution_count": null,
   "metadata": {},
   "outputs": [],
   "source": []
  },
  {
   "cell_type": "code",
   "execution_count": null,
   "metadata": {},
   "outputs": [],
   "source": []
  },
  {
   "cell_type": "code",
   "execution_count": null,
   "metadata": {},
   "outputs": [],
   "source": []
  },
  {
   "cell_type": "code",
   "execution_count": null,
   "metadata": {},
   "outputs": [],
   "source": []
  },
  {
   "cell_type": "code",
   "execution_count": null,
   "metadata": {},
   "outputs": [],
   "source": []
  },
  {
   "cell_type": "code",
   "execution_count": null,
   "metadata": {},
   "outputs": [],
   "source": []
  },
  {
   "cell_type": "code",
   "execution_count": null,
   "metadata": {},
   "outputs": [],
   "source": []
  },
  {
   "cell_type": "code",
   "execution_count": null,
   "metadata": {},
   "outputs": [],
   "source": []
  },
  {
   "cell_type": "code",
   "execution_count": null,
   "metadata": {},
   "outputs": [],
   "source": []
  },
  {
   "cell_type": "code",
   "execution_count": null,
   "metadata": {},
   "outputs": [],
   "source": []
  },
  {
   "cell_type": "code",
   "execution_count": null,
   "metadata": {},
   "outputs": [],
   "source": []
  },
  {
   "cell_type": "code",
   "execution_count": null,
   "metadata": {},
   "outputs": [],
   "source": []
  },
  {
   "cell_type": "code",
   "execution_count": null,
   "metadata": {},
   "outputs": [],
   "source": []
  },
  {
   "cell_type": "code",
   "execution_count": null,
   "metadata": {},
   "outputs": [],
   "source": []
  },
  {
   "cell_type": "code",
   "execution_count": null,
   "metadata": {},
   "outputs": [],
   "source": []
  },
  {
   "cell_type": "code",
   "execution_count": null,
   "metadata": {},
   "outputs": [],
   "source": []
  },
  {
   "cell_type": "code",
   "execution_count": null,
   "metadata": {},
   "outputs": [],
   "source": []
  },
  {
   "cell_type": "code",
   "execution_count": null,
   "metadata": {},
   "outputs": [],
   "source": []
  },
  {
   "cell_type": "code",
   "execution_count": null,
   "metadata": {},
   "outputs": [],
   "source": []
  }
 ],
 "metadata": {
  "kernelspec": {
   "display_name": "Python 3",
   "language": "python",
   "name": "python3"
  },
  "language_info": {
   "codemirror_mode": {
    "name": "ipython",
    "version": 3
   },
   "file_extension": ".py",
   "mimetype": "text/x-python",
   "name": "python",
   "nbconvert_exporter": "python",
   "pygments_lexer": "ipython3",
   "version": "3.7.3"
  }
 },
 "nbformat": 4,
 "nbformat_minor": 2
}
