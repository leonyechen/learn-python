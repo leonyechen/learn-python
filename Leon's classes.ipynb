{
 "cells": [
  {
   "cell_type": "markdown",
   "metadata": {},
   "source": [
    "# LEON'S CLASSES!!!\n",
    "##### it's all about my cool and creative classes!"
   ]
  },
  {
   "cell_type": "code",
   "execution_count": 7,
   "metadata": {},
   "outputs": [],
   "source": [
    "class LeonsMath:\n",
    "    \n",
    "    def __init__(self, num1, num2):\n",
    "        self.num1 = num1\n",
    "        self.num2 = num2\n",
    "    \n",
    "    def addition(self):\n",
    "        return self.num1 + self.num2\n",
    "\n",
    "    def subtraction(self):\n",
    "        return self.num1 - self.num2\n",
    "\n",
    "    def mutiplication(self):\n",
    "        return self.num1 * self.num2\n",
    "\n",
    "    def division(self):\n",
    "        return self.num1 / self.num2"
   ]
  },
  {
   "cell_type": "code",
   "execution_count": 11,
   "metadata": {},
   "outputs": [
    {
     "data": {
      "text/plain": [
       "22"
      ]
     },
     "execution_count": 11,
     "metadata": {},
     "output_type": "execute_result"
    }
   ],
   "source": [
    "my_math = LeonsMath(15, 7)\n",
    "my_math.addition()"
   ]
  },
  {
   "cell_type": "code",
   "execution_count": 12,
   "metadata": {},
   "outputs": [],
   "source": [
    "class LeonsArrows:\n",
    "    \n",
    "    def __init__(self, amount):\n",
    "        self.amount = amount\n",
    "    \n",
    "    def left_arrow(self):\n",
    "        return '←' * self.amount\n",
    "    \n",
    "    def up_arrow(self):\n",
    "        return '↑' * self.amount\n",
    "    \n",
    "    def right_arrow(self):\n",
    "        return '→' * self.amount\n",
    "    \n",
    "    def down_arrow(self):\n",
    "        return '↓' * self.amount"
   ]
  },
  {
   "cell_type": "code",
   "execution_count": 14,
   "metadata": {},
   "outputs": [
    {
     "data": {
      "text/plain": [
       "'←←←'"
      ]
     },
     "execution_count": 14,
     "metadata": {},
     "output_type": "execute_result"
    }
   ],
   "source": [
    "my_arrow = LeonsArrows(3)\n",
    "my_arrow.left_arrow()"
   ]
  },
  {
   "cell_type": "code",
   "execution_count": 192,
   "metadata": {},
   "outputs": [],
   "source": [
    "class LeonsList:\n",
    "    \n",
    "    \n",
    "    def __init__(self):\n",
    "        self.str_list = ''\n",
    "        \n",
    "    def add(self,data):\n",
    "        if type(data) == str:\n",
    "            if len(self.str_list) == 0:\n",
    "                self.str_list += f\"'{data}'\"\n",
    "            else:\n",
    "                self.str_list += ',' + f\"'{data}'\"\n",
    "        else:\n",
    "            if len(self.str_list) == 0:\n",
    "                self.str_list += data\n",
    "            else:\n",
    "                self.str_list += ',' + f'{data}'\n",
    "    \n",
    "    def remove(self,variable):\n",
    "            self.str_list = self.str_list.replace(f\",'{variable[0]}\",'')\n",
    "            for letter in variable:\n",
    "                if letter == variable[0] or letter == variable[len(variable - 1)]:\n",
    "                    continue\n",
    "                self.str_list = self.str_list.replace(f\"{letter}\",'')\n",
    "            self.str_list = self.str_list.replace(f\"{variable[len(variable) - 1]}'\",'')\n",
    "    \n",
    "    def show(self):\n",
    "        print(f'[{self.str_list}]')"
   ]
  },
  {
   "cell_type": "code",
   "execution_count": 195,
   "metadata": {},
   "outputs": [
    {
     "name": "stdout",
     "output_type": "stream",
     "text": [
      "['aa','w',1]\n",
      "['aa'',1]\n"
     ]
    }
   ],
   "source": [
    "leons_list = LeonsList()\n",
    "leons_list.add('aa')\n",
    "leons_list.add('w')\n",
    "leons_list.add(1)\n",
    "leons_list.show()\n",
    "leons_list.remove('w')\n",
    "leons_list.show()"
   ]
  },
  {
   "cell_type": "code",
   "execution_count": null,
   "metadata": {},
   "outputs": [],
   "source": []
  },
  {
   "cell_type": "code",
   "execution_count": null,
   "metadata": {},
   "outputs": [],
   "source": []
  },
  {
   "cell_type": "code",
   "execution_count": null,
   "metadata": {},
   "outputs": [],
   "source": []
  },
  {
   "cell_type": "code",
   "execution_count": null,
   "metadata": {},
   "outputs": [],
   "source": []
  },
  {
   "cell_type": "code",
   "execution_count": null,
   "metadata": {},
   "outputs": [],
   "source": []
  },
  {
   "cell_type": "code",
   "execution_count": null,
   "metadata": {},
   "outputs": [],
   "source": []
  },
  {
   "cell_type": "code",
   "execution_count": null,
   "metadata": {},
   "outputs": [],
   "source": []
  },
  {
   "cell_type": "code",
   "execution_count": null,
   "metadata": {},
   "outputs": [],
   "source": []
  },
  {
   "cell_type": "code",
   "execution_count": null,
   "metadata": {},
   "outputs": [],
   "source": []
  },
  {
   "cell_type": "code",
   "execution_count": null,
   "metadata": {},
   "outputs": [],
   "source": []
  },
  {
   "cell_type": "code",
   "execution_count": null,
   "metadata": {},
   "outputs": [],
   "source": []
  },
  {
   "cell_type": "code",
   "execution_count": null,
   "metadata": {},
   "outputs": [],
   "source": []
  },
  {
   "cell_type": "code",
   "execution_count": null,
   "metadata": {},
   "outputs": [],
   "source": []
  },
  {
   "cell_type": "code",
   "execution_count": null,
   "metadata": {},
   "outputs": [],
   "source": []
  },
  {
   "cell_type": "code",
   "execution_count": null,
   "metadata": {},
   "outputs": [],
   "source": []
  },
  {
   "cell_type": "code",
   "execution_count": null,
   "metadata": {},
   "outputs": [],
   "source": []
  },
  {
   "cell_type": "code",
   "execution_count": null,
   "metadata": {},
   "outputs": [],
   "source": []
  },
  {
   "cell_type": "code",
   "execution_count": null,
   "metadata": {},
   "outputs": [],
   "source": []
  },
  {
   "cell_type": "code",
   "execution_count": null,
   "metadata": {},
   "outputs": [],
   "source": []
  },
  {
   "cell_type": "code",
   "execution_count": null,
   "metadata": {},
   "outputs": [],
   "source": []
  },
  {
   "cell_type": "code",
   "execution_count": null,
   "metadata": {},
   "outputs": [],
   "source": []
  },
  {
   "cell_type": "code",
   "execution_count": null,
   "metadata": {},
   "outputs": [],
   "source": []
  },
  {
   "cell_type": "code",
   "execution_count": null,
   "metadata": {},
   "outputs": [],
   "source": []
  },
  {
   "cell_type": "code",
   "execution_count": null,
   "metadata": {},
   "outputs": [],
   "source": []
  }
 ],
 "metadata": {
  "kernelspec": {
   "display_name": "Python 3",
   "language": "python",
   "name": "python3"
  },
  "language_info": {
   "codemirror_mode": {
    "name": "ipython",
    "version": 3
   },
   "file_extension": ".py",
   "mimetype": "text/x-python",
   "name": "python",
   "nbconvert_exporter": "python",
   "pygments_lexer": "ipython3",
   "version": "3.7.3"
  }
 },
 "nbformat": 4,
 "nbformat_minor": 2
}
