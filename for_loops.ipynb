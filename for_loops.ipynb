{
 "cells": [
  {
   "cell_type": "code",
   "execution_count": 2,
   "metadata": {},
   "outputs": [
    {
     "name": "stdout",
     "output_type": "stream",
     "text": [
      "1\n",
      "2\n",
      "3\n"
     ]
    }
   ],
   "source": [
    "my_list = [1, 2, 3]\n",
    "\n",
    "for item in my_list:\n",
    "    print(item)"
   ]
  },
  {
   "cell_type": "code",
   "execution_count": 3,
   "metadata": {},
   "outputs": [],
   "source": [
    "my_list = [1,2,3,4,5,6,7,8,9,10,11,12,13,14,15,16,17,18,19,20,21,22,23,24,25]"
   ]
  },
  {
   "cell_type": "code",
   "execution_count": 4,
   "metadata": {},
   "outputs": [
    {
     "name": "stdout",
     "output_type": "stream",
     "text": [
      "1\n",
      "3\n",
      "5\n",
      "7\n",
      "9\n",
      "11\n",
      "13\n",
      "15\n",
      "17\n",
      "19\n",
      "21\n",
      "23\n",
      "25\n"
     ]
    }
   ],
   "source": [
    "for num in my_list[0::2]:    \n",
    "        print(num)"
   ]
  },
  {
   "cell_type": "code",
   "execution_count": 5,
   "metadata": {},
   "outputs": [],
   "source": [
    "my_list2 = [1,2,3,4,5,6,7,8,9,10,11,12,13,14,15,16,17,18,19,20,21,22,23,24,25]"
   ]
  },
  {
   "cell_type": "code",
   "execution_count": 6,
   "metadata": {},
   "outputs": [
    {
     "name": "stdout",
     "output_type": "stream",
     "text": [
      "1\n",
      "3\n",
      "5\n",
      "7\n",
      "9\n",
      "11\n",
      "13\n",
      "15\n",
      "17\n",
      "19\n",
      "21\n",
      "23\n",
      "25\n"
     ]
    }
   ],
   "source": [
    "for num in my_list2:\n",
    "    if num % 2 == 1:\n",
    "        print(num)"
   ]
  },
  {
   "cell_type": "code",
   "execution_count": 7,
   "metadata": {},
   "outputs": [
    {
     "name": "stdout",
     "output_type": "stream",
     "text": [
      "let me play your phone!\n",
      "let me play your phone!\n",
      "let me play your phone!\n",
      "let me play your phone!\n",
      "let me play your phone!\n",
      "let me play your phone!\n",
      "let me play your phone!\n",
      "let me play your phone!\n",
      "let me play your phone!\n",
      "let me play your phone!\n",
      "let me play your phone!\n",
      "let me play your phone!\n",
      "let me play your phone!\n",
      "let me play your phone!\n",
      "let me play your phone!\n",
      "let me play your phone!\n",
      "let me play your phone!\n",
      "let me play your phone!\n",
      "let me play your phone!\n",
      "let me play your phone!\n",
      "let me play your phone!\n",
      "let me play your phone!\n",
      "let me play your phone!\n",
      "let me play your phone!\n",
      "let me play your phone!\n"
     ]
    }
   ],
   "source": [
    "my_list3 = [1,2,3,4,5,6,7,8,9,10,11,12,13,14,15,16,17,18,19,20,21,22,23,24,25]\n",
    "\n",
    "for num in my_list3:\n",
    "        print('let me play your phone!')"
   ]
  },
  {
   "cell_type": "code",
   "execution_count": 8,
   "metadata": {},
   "outputs": [
    {
     "name": "stdout",
     "output_type": "stream",
     "text": [
      "let me play your phone!\n",
      "let me play your phone!\n",
      "let me play your phone!\n",
      "let me play your phone!\n",
      "let me play your phone!\n",
      "let me play your phone!\n",
      "let me play your phone!\n",
      "let me play your phone!\n",
      "let me play your phone!\n",
      "let me play your phone!\n",
      "let me play your phone!\n",
      "let me play your phone!\n",
      "let me play your phone!\n",
      "let me play your phone!\n",
      "let me play your phone!\n",
      "let me play your phone!\n",
      "let me play your phone!\n",
      "let me play your phone!\n",
      "let me play your phone!\n",
      "let me play your phone!\n",
      "let me play your phone!\n",
      "let me play your phone!\n",
      "let me play your phone!\n",
      "let me play your phone!\n",
      "let me play your phone!\n",
      "let me play your phone!\n",
      "let me play your phone!\n",
      "let me play your phone!\n",
      "let me play your phone!\n",
      "let me play your phone!\n",
      "let me play your phone!\n",
      "let me play your phone!\n",
      "let me play your phone!\n",
      "let me play your phone!\n",
      "let me play your phone!\n",
      "let me play your phone!\n",
      "let me play your phone!\n",
      "let me play your phone!\n",
      "let me play your phone!\n",
      "let me play your phone!\n",
      "let me play your phone!\n",
      "let me play your phone!\n",
      "let me play your phone!\n",
      "let me play your phone!\n",
      "let me play your phone!\n",
      "let me play your phone!\n",
      "let me play your phone!\n",
      "let me play your phone!\n",
      "let me play your phone!\n",
      "let me play your phone!\n",
      "let me play your phone!\n",
      "let me play your phone!\n",
      "let me play your phone!\n",
      "let me play your phone!\n",
      "let me play your phone!\n",
      "let me play your phone!\n",
      "let me play your phone!\n",
      "let me play your phone!\n",
      "let me play your phone!\n",
      "let me play your phone!\n",
      "let me play your phone!\n",
      "let me play your phone!\n",
      "let me play your phone!\n",
      "let me play your phone!\n",
      "let me play your phone!\n",
      "let me play your phone!\n",
      "let me play your phone!\n",
      "let me play your phone!\n",
      "let me play your phone!\n",
      "let me play your phone!\n",
      "let me play your phone!\n",
      "let me play your phone!\n",
      "let me play your phone!\n",
      "let me play your phone!\n",
      "let me play your phone!\n",
      "let me play your phone!\n",
      "let me play your phone!\n",
      "let me play your phone!\n",
      "let me play your phone!\n",
      "let me play your phone!\n",
      "let me play your phone!\n",
      "let me play your phone!\n",
      "let me play your phone!\n",
      "let me play your phone!\n",
      "let me play your phone!\n",
      "let me play your phone!\n",
      "let me play your phone!\n",
      "let me play your phone!\n",
      "let me play your phone!\n",
      "let me play your phone!\n",
      "let me play your phone!\n",
      "let me play your phone!\n",
      "let me play your phone!\n",
      "let me play your phone!\n",
      "let me play your phone!\n",
      "let me play your phone!\n",
      "let me play your phone!\n",
      "let me play your phone!\n",
      "let me play your phone!\n",
      "let me play your phone!\n",
      "let me play your phone!\n",
      "let me play your phone!\n",
      "let me play your phone!\n",
      "let me play your phone!\n",
      "let me play your phone!\n",
      "let me play your phone!\n",
      "let me play your phone!\n",
      "let me play your phone!\n",
      "let me play your phone!\n",
      "let me play your phone!\n",
      "let me play your phone!\n",
      "let me play your phone!\n",
      "let me play your phone!\n",
      "let me play your phone!\n",
      "let me play your phone!\n",
      "let me play your phone!\n",
      "let me play your phone!\n",
      "let me play your phone!\n",
      "let me play your phone!\n",
      "let me play your phone!\n",
      "let me play your phone!\n",
      "let me play your phone!\n",
      "let me play your phone!\n",
      "let me play your phone!\n",
      "let me play your phone!\n",
      "let me play your phone!\n",
      "let me play your phone!\n",
      "let me play your phone!\n",
      "let me play your phone!\n",
      "let me play your phone!\n",
      "let me play your phone!\n",
      "let me play your phone!\n",
      "let me play your phone!\n",
      "let me play your phone!\n",
      "let me play your phone!\n",
      "let me play your phone!\n",
      "let me play your phone!\n",
      "let me play your phone!\n",
      "let me play your phone!\n",
      "let me play your phone!\n",
      "let me play your phone!\n",
      "let me play your phone!\n",
      "let me play your phone!\n",
      "let me play your phone!\n",
      "let me play your phone!\n",
      "let me play your phone!\n",
      "let me play your phone!\n",
      "let me play your phone!\n",
      "let me play your phone!\n",
      "let me play your phone!\n",
      "let me play your phone!\n",
      "let me play your phone!\n",
      "let me play your phone!\n",
      "let me play your phone!\n",
      "let me play your phone!\n",
      "let me play your phone!\n",
      "let me play your phone!\n",
      "let me play your phone!\n",
      "let me play your phone!\n",
      "let me play your phone!\n",
      "let me play your phone!\n",
      "let me play your phone!\n",
      "let me play your phone!\n",
      "let me play your phone!\n",
      "let me play your phone!\n",
      "let me play your phone!\n",
      "let me play your phone!\n",
      "let me play your phone!\n",
      "let me play your phone!\n",
      "let me play your phone!\n",
      "let me play your phone!\n",
      "let me play your phone!\n",
      "let me play your phone!\n",
      "let me play your phone!\n",
      "let me play your phone!\n",
      "let me play your phone!\n",
      "let me play your phone!\n",
      "let me play your phone!\n",
      "let me play your phone!\n",
      "let me play your phone!\n",
      "let me play your phone!\n",
      "let me play your phone!\n",
      "let me play your phone!\n",
      "let me play your phone!\n",
      "let me play your phone!\n",
      "let me play your phone!\n",
      "let me play your phone!\n",
      "let me play your phone!\n",
      "let me play your phone!\n",
      "let me play your phone!\n",
      "let me play your phone!\n",
      "let me play your phone!\n",
      "let me play your phone!\n",
      "let me play your phone!\n",
      "let me play your phone!\n",
      "let me play your phone!\n",
      "let me play your phone!\n",
      "let me play your phone!\n",
      "let me play your phone!\n",
      "let me play your phone!\n",
      "let me play your phone!\n",
      "let me play your phone!\n",
      "let me play your phone!\n",
      "let me play your phone!\n",
      "let me play your phone!\n",
      "let me play your phone!\n",
      "let me play your phone!\n",
      "let me play your phone!\n",
      "let me play your phone!\n",
      "let me play your phone!\n",
      "let me play your phone!\n",
      "let me play your phone!\n",
      "let me play your phone!\n",
      "let me play your phone!\n",
      "let me play your phone!\n",
      "let me play your phone!\n",
      "let me play your phone!\n",
      "let me play your phone!\n",
      "let me play your phone!\n",
      "let me play your phone!\n",
      "let me play your phone!\n",
      "let me play your phone!\n",
      "let me play your phone!\n",
      "let me play your phone!\n",
      "let me play your phone!\n",
      "let me play your phone!\n",
      "let me play your phone!\n",
      "let me play your phone!\n",
      "let me play your phone!\n",
      "let me play your phone!\n",
      "let me play your phone!\n",
      "let me play your phone!\n",
      "let me play your phone!\n",
      "let me play your phone!\n",
      "let me play your phone!\n",
      "let me play your phone!\n",
      "let me play your phone!\n",
      "let me play your phone!\n",
      "let me play your phone!\n",
      "let me play your phone!\n",
      "let me play your phone!\n",
      "let me play your phone!\n",
      "let me play your phone!\n",
      "let me play your phone!\n",
      "let me play your phone!\n",
      "let me play your phone!\n",
      "let me play your phone!\n",
      "let me play your phone!\n",
      "let me play your phone!\n",
      "let me play your phone!\n",
      "let me play your phone!\n",
      "let me play your phone!\n",
      "let me play your phone!\n",
      "let me play your phone!\n",
      "let me play your phone!\n",
      "let me play your phone!\n",
      "let me play your phone!\n",
      "let me play your phone!\n",
      "let me play your phone!\n",
      "let me play your phone!\n",
      "let me play your phone!\n",
      "let me play your phone!\n",
      "let me play your phone!\n",
      "let me play your phone!\n",
      "let me play your phone!\n",
      "let me play your phone!\n",
      "let me play your phone!\n",
      "let me play your phone!\n",
      "let me play your phone!\n",
      "let me play your phone!\n",
      "let me play your phone!\n",
      "let me play your phone!\n",
      "let me play your phone!\n",
      "let me play your phone!\n",
      "let me play your phone!\n",
      "let me play your phone!\n",
      "let me play your phone!\n",
      "let me play your phone!\n",
      "let me play your phone!\n",
      "let me play your phone!\n",
      "let me play your phone!\n",
      "let me play your phone!\n",
      "let me play your phone!\n",
      "let me play your phone!\n",
      "let me play your phone!\n",
      "let me play your phone!\n",
      "let me play your phone!\n",
      "let me play your phone!\n",
      "let me play your phone!\n",
      "let me play your phone!\n",
      "let me play your phone!\n",
      "let me play your phone!\n",
      "let me play your phone!\n",
      "let me play your phone!\n",
      "let me play your phone!\n",
      "let me play your phone!\n",
      "let me play your phone!\n",
      "let me play your phone!\n",
      "let me play your phone!\n",
      "let me play your phone!\n",
      "let me play your phone!\n",
      "let me play your phone!\n",
      "let me play your phone!\n",
      "let me play your phone!\n",
      "let me play your phone!\n",
      "let me play your phone!\n",
      "let me play your phone!\n",
      "let me play your phone!\n"
     ]
    }
   ],
   "source": [
    "m = [1,1,1,1,1,11,1,11,1,1,11,1,11,11,1,1,1,1,1,1,1,1,1,1,1,1,1,1,1,1,1,1,1,1,1,1,1,1,1,1,1,1,1,1,1,1,1,1,1,1,1,1,1,1,1,1,1,1,1,1,1,1,1,1,1,1,1,1,1,1,1,1,1,1,1,1,1,1,1,1,1,1,1,1,1,1,1,1,1,1,1,1,1,1,1,1,1,1,1,1,1,1,1,1,1,1,1,1,1,1,1,1,1,1,1,1,1,1,1,1,1,1,1,1,1,1,1,1,1,1,1,1,1,1,1,1,1,11,1,1,1,1,1,1,1,1,1,1,1,1,1,1,1,1,1,1,1,1,1,1,1,1,1,1,1,1,1,1,1,1,1,1,1,1,1,1,1,1,1,1,1,1,1,1,1,1,1,1,1,1,1,1,1,1,1,1,1,1,1,1,1,1,1,1,1,1,1,1,1,1,1,1,1,1,1,1,1,1,1,1,1,1,1,1,1,1,1,1,1,1,1,1,1,1,1,1,1,1,1,1,1,1,1,1,1,1,1,1,1,1,1,1,1,1,1,1,1,1,1,1,1,1,1,1,1,1,1,1,1,1,1,1,1,1,1,1,1,1,1,1,1,1,1,1,1,1,1,1,1,1,1,1,1,1,1,1,1,1,1,1,1,1,1,1,1,1,1,1,]\n",
    "\n",
    "for num in m:\n",
    "        print('let me play your phone!')"
   ]
  },
  {
   "cell_type": "code",
   "execution_count": 9,
   "metadata": {},
   "outputs": [],
   "source": [
    "k=[2,21,15,16]"
   ]
  },
  {
   "cell_type": "code",
   "execution_count": 10,
   "metadata": {},
   "outputs": [
    {
     "name": "stdout",
     "output_type": "stream",
     "text": [
      "54\n"
     ]
    }
   ],
   "source": [
    "list_sum = 0\n",
    "\n",
    "for num in k:\n",
    "    list_sum += num\n",
    "\n",
    "print(list_sum)"
   ]
  },
  {
   "cell_type": "code",
   "execution_count": 11,
   "metadata": {},
   "outputs": [
    {
     "name": "stdout",
     "output_type": "stream",
     "text": [
      "Hello\n",
      "Hello\n",
      "Hello\n",
      "Hello\n",
      "Hello\n"
     ]
    }
   ],
   "source": [
    "list10 = [22, 12, 18, 33, 56]\n",
    "\n",
    "for num in list10:\n",
    "    print('Hello')\n",
    "    \n",
    "    \n"
   ]
  },
  {
   "cell_type": "code",
   "execution_count": 12,
   "metadata": {},
   "outputs": [],
   "source": [
    "my_list3 = [1,2,3,4,5,6,7,8,9,10,11,12,13,14,15,16,17,18,19,20,21,22,23,24,25]"
   ]
  },
  {
   "cell_type": "code",
   "execution_count": 13,
   "metadata": {},
   "outputs": [
    {
     "name": "stdout",
     "output_type": "stream",
     "text": [
      "This is 3 or 3's multiple: 3\n",
      "This is 3 or 3's multiple: 6\n",
      "This is 3 or 3's multiple: 9\n",
      "This is 3 or 3's multiple: 12\n",
      "This is 3 or 3's multiple: 15\n",
      "This is 3 or 3's multiple: 18\n",
      "This is 3 or 3's multiple: 21\n",
      "This is 3 or 3's multiple: 24\n"
     ]
    }
   ],
   "source": [
    "for num in my_list3:\n",
    "    if num % 3 == 0:\n",
    "        print(f\"This is 3 or 3's multiple: {num}\")"
   ]
  },
  {
   "cell_type": "code",
   "execution_count": 14,
   "metadata": {},
   "outputs": [],
   "source": [
    "my_list4 = [1,2,3,4,5,6,7,8,9,10,11,12,13,14,15,16,17,18,19,20,21,22,23,24,25]"
   ]
  },
  {
   "cell_type": "code",
   "execution_count": 15,
   "metadata": {},
   "outputs": [
    {
     "name": "stdout",
     "output_type": "stream",
     "text": [
      "This is 4 or 4's multiple: 4\n",
      "This is 4 or 4's multiple: 8\n",
      "This is 4 or 4's multiple: 12\n",
      "This is 4 or 4's multiple: 16\n",
      "This is 4 or 4's multiple: 20\n",
      "This is 4 or 4's multiple: 24\n"
     ]
    }
   ],
   "source": [
    "for num in my_list4:\n",
    "    if num % 4 == 0:\n",
    "        print(f\"This is 4 or 4's multiple: {num}\")    "
   ]
  },
  {
   "cell_type": "code",
   "execution_count": 16,
   "metadata": {},
   "outputs": [
    {
     "name": "stdout",
     "output_type": "stream",
     "text": [
      "I\n",
      " \n",
      "W\n",
      "A\n",
      "N\n",
      "T\n",
      " \n",
      "T\n",
      "O\n",
      " \n",
      "P\n",
      "L\n",
      "A\n",
      "Y\n",
      " \n",
      "Y\n",
      "O\n",
      "U\n",
      "R\n",
      " \n",
      "P\n",
      "H\n",
      "O\n",
      "N\n",
      "E\n",
      "!\n",
      "!\n",
      "!\n"
     ]
    }
   ],
   "source": [
    "for letter in \"I WANT TO PLAY YOUR PHONE!!!\":\n",
    "    print(letter)"
   ]
  },
  {
   "cell_type": "code",
   "execution_count": 17,
   "metadata": {},
   "outputs": [],
   "source": [
    "result = ''"
   ]
  },
  {
   "cell_type": "code",
   "execution_count": null,
   "metadata": {},
   "outputs": [],
   "source": [
    "for letter in \"I WANT TO PLAY YOUR PHONE!!!\":\n",
    "    result += letter\n",
    "    result = result * 10\n",
    "print(result)"
   ]
  },
  {
   "cell_type": "code",
   "execution_count": null,
   "metadata": {},
   "outputs": [],
   "source": [
    "my_list = [(1,2,3), (4,5,6)]"
   ]
  },
  {
   "cell_type": "code",
   "execution_count": null,
   "metadata": {},
   "outputs": [],
   "source": [
    "len(my_list)"
   ]
  },
  {
   "cell_type": "code",
   "execution_count": null,
   "metadata": {},
   "outputs": [],
   "source": [
    "for a,b,c in my_list:\n",
    "    print(a)\n",
    "    print(b)\n",
    "    print(c)"
   ]
  },
  {
   "cell_type": "code",
   "execution_count": null,
   "metadata": {},
   "outputs": [],
   "source": [
    "Leon_list = [(1,2,3), (4,5,6)]"
   ]
  },
  {
   "cell_type": "code",
   "execution_count": null,
   "metadata": {},
   "outputs": [],
   "source": [
    "for a,b,c in Leon_list:\n",
    "    print(a)\n",
    "    print(b)\n",
    "    print(c)"
   ]
  },
  {
   "cell_type": "code",
   "execution_count": null,
   "metadata": {},
   "outputs": [],
   "source": [
    "K = [1,2,3,4]"
   ]
  },
  {
   "cell_type": "code",
   "execution_count": null,
   "metadata": {},
   "outputs": [],
   "source": [
    "for num in K:\n",
    "    if num % 2 == 0:\n",
    "        print(num)"
   ]
  },
  {
   "cell_type": "code",
   "execution_count": null,
   "metadata": {},
   "outputs": [],
   "source": [
    "for num in K[1:len(K):2]:\n",
    "    print(num)\n",
    "    "
   ]
  },
  {
   "cell_type": "code",
   "execution_count": null,
   "metadata": {},
   "outputs": [],
   "source": [
    "my_d = {'k1':1, 'k2':2, 'k3':3}"
   ]
  },
  {
   "cell_type": "code",
   "execution_count": null,
   "metadata": {},
   "outputs": [],
   "source": [
    "for item in my_d:\n",
    "    print(item)"
   ]
  },
  {
   "cell_type": "code",
   "execution_count": null,
   "metadata": {},
   "outputs": [],
   "source": [
    "for item in my_d.items():\n",
    "    if (type(item) == type(tuple())):\n",
    "        print(\"This is a tuple: {key}:{value}\".format(key=item[0], value=item[1]))\n",
    "    print(item)"
   ]
  },
  {
   "cell_type": "code",
   "execution_count": null,
   "metadata": {},
   "outputs": [],
   "source": [
    "my_tuple = (1, 2, 3)"
   ]
  },
  {
   "cell_type": "code",
   "execution_count": null,
   "metadata": {},
   "outputs": [],
   "source": [
    "print(type(my_tuple))"
   ]
  },
  {
   "cell_type": "code",
   "execution_count": null,
   "metadata": {},
   "outputs": [],
   "source": [
    "for key, value in my_d.items():\n",
    "    print(\"This is a tuple. {k}:{v}\".format(k=key, v=value))   "
   ]
  },
  {
   "cell_type": "code",
   "execution_count": null,
   "metadata": {},
   "outputs": [],
   "source": [
    "\n",
    "\n",
    "    "
   ]
  },
  {
   "cell_type": "code",
   "execution_count": null,
   "metadata": {},
   "outputs": [],
   "source": [
    "x = [1,2,3]\n",
    "\n",
    "for item in x:\n",
    "    # do nothing\n",
    "    pass"
   ]
  },
  {
   "cell_type": "code",
   "execution_count": null,
   "metadata": {},
   "outputs": [],
   "source": [
    "my_str = 'Sammy'"
   ]
  },
  {
   "cell_type": "code",
   "execution_count": null,
   "metadata": {},
   "outputs": [],
   "source": [
    "for letter in my_str:\n",
    "    if (letter == 'a'):\n",
    "        continue\n",
    "    #print(letter)\n",
    "    print(f'I will print the letter anyway: {letter}')"
   ]
  },
  {
   "cell_type": "code",
   "execution_count": 26,
   "metadata": {},
   "outputs": [],
   "source": [
    "my_list = [1,2,3]\n",
    "my_list2 = [5,6]"
   ]
  },
  {
   "cell_type": "code",
   "execution_count": 24,
   "metadata": {},
   "outputs": [
    {
     "name": "stdout",
     "output_type": "stream",
     "text": [
      "1\n",
      "2\n"
     ]
    }
   ],
   "source": [
    "for num in my_list:\n",
    "    if (num >= 3):\n",
    "        break\n",
    "    print(num)\n",
    "    "
   ]
  },
  {
   "cell_type": "code",
   "execution_count": 27,
   "metadata": {},
   "outputs": [
    {
     "name": "stdout",
     "output_type": "stream",
     "text": [
      "6\n",
      "7\n",
      "7\n",
      "8\n",
      "8\n",
      "9\n"
     ]
    }
   ],
   "source": [
    "for num in my_list:\n",
    "    for num2 in my_list2:\n",
    "        print(num + num2)"
   ]
  },
  {
   "cell_type": "code",
   "execution_count": 1,
   "metadata": {},
   "outputs": [
    {
     "ename": "NameError",
     "evalue": "name 'x' is not defined",
     "output_type": "error",
     "traceback": [
      "\u001b[0;31m---------------------------------------------------------------------------\u001b[0m",
      "\u001b[0;31mNameError\u001b[0m                                 Traceback (most recent call last)",
      "\u001b[0;32m<ipython-input-1-6fcf9dfbd479>\u001b[0m in \u001b[0;36m<module>\u001b[0;34m\u001b[0m\n\u001b[0;32m----> 1\u001b[0;31m \u001b[0mx\u001b[0m\u001b[0;34m\u001b[0m\u001b[0;34m\u001b[0m\u001b[0m\n\u001b[0m",
      "\u001b[0;31mNameError\u001b[0m: name 'x' is not defined"
     ]
    }
   ],
   "source": []
  },
  {
   "cell_type": "code",
   "execution_count": null,
   "metadata": {},
   "outputs": [],
   "source": []
  }
 ],
 "metadata": {
  "kernelspec": {
   "display_name": "Python 3",
   "language": "python",
   "name": "python3"
  },
  "language_info": {
   "codemirror_mode": {
    "name": "ipython",
    "version": 3
   },
   "file_extension": ".py",
   "mimetype": "text/x-python",
   "name": "python",
   "nbconvert_exporter": "python",
   "pygments_lexer": "ipython3",
   "version": "3.7.3"
  }
 },
 "nbformat": 4,
 "nbformat_minor": 2
}
