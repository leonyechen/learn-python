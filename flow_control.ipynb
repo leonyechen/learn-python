{
 "cells": [
  {
   "cell_type": "code",
   "execution_count": 5,
   "metadata": {},
   "outputs": [
    {
     "name": "stdout",
     "output_type": "stream",
     "text": [
      "Yes I'm vary vary hungry!\n"
     ]
    }
   ],
   "source": [
    " Are_you_hungry = True\n",
    "\n",
    "if Are_you_hungry:\n",
    "    print(\"Yes I'm vary vary hungry!\")    \n",
    "else:\n",
    "    print('I am not hungry.')"
   ]
  },
  {
   "cell_type": "code",
   "execution_count": 6,
   "metadata": {},
   "outputs": [
    {
     "name": "stdout",
     "output_type": "stream",
     "text": [
      "I do not know much\n"
     ]
    }
   ],
   "source": [
    "loc = 'lsjdlsjf'\n",
    "\n",
    "if loc == 'Auto Shop':\n",
    "    print(\"Cars are cool\")\n",
    "elif loc == 'Bank':\n",
    "    print(\"Money is good\")\n",
    "else:\n",
    "    print(\"I do not know much\")        "
   ]
  },
  {
   "cell_type": "code",
   "execution_count": 7,
   "metadata": {},
   "outputs": [
    {
     "name": "stdout",
     "output_type": "stream",
     "text": [
      "Hey Boss!\n",
      "How are you doing?\n"
     ]
    }
   ],
   "source": [
    "name = 'Leon'\n",
    "\n",
    "if name == 'Leon':\n",
    "    print('Hey Boss!')\n",
    "    print('How are you doing?')\n",
    "    \n",
    "elif name == 'Ke':\n",
    "    print('Hey Ke!')\n",
    "    print('How are you?')\n",
    "    \n",
    "elif name == 'Gorden':\n",
    "    print('Hey Gorden!')\n",
    "    print('I thought you were sick?')\n",
    "\n",
    "elif name == 'Adam':\n",
    "    print('Hey Adam!')\n",
    "    print('Nice to see you!')\n",
    "\n",
    "elif name == 'Eve':\n",
    "    print('Hey Eve!')\n",
    "    print('Good morning!')\n",
    "    \n",
    "elif name == 'Zoe':\n",
    "    print('Hey Zoe!')\n",
    "    print('I hope you have a super day!')\n",
    "else:\n",
    "    print('Are you working here?')\n",
    "    print('If not please leave.')"
   ]
  },
  {
   "cell_type": "code",
   "execution_count": 8,
   "metadata": {},
   "outputs": [
    {
     "data": {
      "text/plain": [
       "False"
      ]
     },
     "execution_count": 8,
     "metadata": {},
     "output_type": "execute_result"
    }
   ],
   "source": [
    "6>8"
   ]
  },
  {
   "cell_type": "code",
   "execution_count": 9,
   "metadata": {},
   "outputs": [
    {
     "data": {
      "text/plain": [
       "True"
      ]
     },
     "execution_count": 9,
     "metadata": {},
     "output_type": "execute_result"
    }
   ],
   "source": [
    "name == 'Leon'"
   ]
  },
  {
   "cell_type": "code",
   "execution_count": 10,
   "metadata": {},
   "outputs": [],
   "source": [
    "l = 'kjhgfdsdfghjhgfdsdfghjhgfdsdfgh'"
   ]
  },
  {
   "cell_type": "code",
   "execution_count": 11,
   "metadata": {},
   "outputs": [],
   "source": [
    "l = l * 100"
   ]
  },
  {
   "cell_type": "code",
   "execution_count": 12,
   "metadata": {},
   "outputs": [
    {
     "data": {
      "text/plain": [
       "'kjhgfdsdfghjhgfdsdfghjhgfdsdfghkjhgfdsdfghjhgfdsdfghjhgfdsdfghkjhgfdsdfghjhgfdsdfghjhgfdsdfghkjhgfdsdfghjhgfdsdfghjhgfdsdfghkjhgfdsdfghjhgfdsdfghjhgfdsdfghkjhgfdsdfghjhgfdsdfghjhgfdsdfghkjhgfdsdfghjhgfdsdfghjhgfdsdfghkjhgfdsdfghjhgfdsdfghjhgfdsdfghkjhgfdsdfghjhgfdsdfghjhgfdsdfghkjhgfdsdfghjhgfdsdfghjhgfdsdfghkjhgfdsdfghjhgfdsdfghjhgfdsdfghkjhgfdsdfghjhgfdsdfghjhgfdsdfghkjhgfdsdfghjhgfdsdfghjhgfdsdfghkjhgfdsdfghjhgfdsdfghjhgfdsdfghkjhgfdsdfghjhgfdsdfghjhgfdsdfghkjhgfdsdfghjhgfdsdfghjhgfdsdfghkjhgfdsdfghjhgfdsdfghjhgfdsdfghkjhgfdsdfghjhgfdsdfghjhgfdsdfghkjhgfdsdfghjhgfdsdfghjhgfdsdfghkjhgfdsdfghjhgfdsdfghjhgfdsdfghkjhgfdsdfghjhgfdsdfghjhgfdsdfghkjhgfdsdfghjhgfdsdfghjhgfdsdfghkjhgfdsdfghjhgfdsdfghjhgfdsdfghkjhgfdsdfghjhgfdsdfghjhgfdsdfghkjhgfdsdfghjhgfdsdfghjhgfdsdfghkjhgfdsdfghjhgfdsdfghjhgfdsdfghkjhgfdsdfghjhgfdsdfghjhgfdsdfghkjhgfdsdfghjhgfdsdfghjhgfdsdfghkjhgfdsdfghjhgfdsdfghjhgfdsdfghkjhgfdsdfghjhgfdsdfghjhgfdsdfghkjhgfdsdfghjhgfdsdfghjhgfdsdfghkjhgfdsdfghjhgfdsdfghjhgfdsdfghkjhgfdsdfghjhgfdsdfghjhgfdsdfghkjhgfdsdfghjhgfdsdfghjhgfdsdfghkjhgfdsdfghjhgfdsdfghjhgfdsdfghkjhgfdsdfghjhgfdsdfghjhgfdsdfghkjhgfdsdfghjhgfdsdfghjhgfdsdfghkjhgfdsdfghjhgfdsdfghjhgfdsdfghkjhgfdsdfghjhgfdsdfghjhgfdsdfghkjhgfdsdfghjhgfdsdfghjhgfdsdfghkjhgfdsdfghjhgfdsdfghjhgfdsdfghkjhgfdsdfghjhgfdsdfghjhgfdsdfghkjhgfdsdfghjhgfdsdfghjhgfdsdfghkjhgfdsdfghjhgfdsdfghjhgfdsdfghkjhgfdsdfghjhgfdsdfghjhgfdsdfghkjhgfdsdfghjhgfdsdfghjhgfdsdfghkjhgfdsdfghjhgfdsdfghjhgfdsdfghkjhgfdsdfghjhgfdsdfghjhgfdsdfghkjhgfdsdfghjhgfdsdfghjhgfdsdfghkjhgfdsdfghjhgfdsdfghjhgfdsdfghkjhgfdsdfghjhgfdsdfghjhgfdsdfghkjhgfdsdfghjhgfdsdfghjhgfdsdfghkjhgfdsdfghjhgfdsdfghjhgfdsdfghkjhgfdsdfghjhgfdsdfghjhgfdsdfghkjhgfdsdfghjhgfdsdfghjhgfdsdfghkjhgfdsdfghjhgfdsdfghjhgfdsdfghkjhgfdsdfghjhgfdsdfghjhgfdsdfghkjhgfdsdfghjhgfdsdfghjhgfdsdfghkjhgfdsdfghjhgfdsdfghjhgfdsdfghkjhgfdsdfghjhgfdsdfghjhgfdsdfghkjhgfdsdfghjhgfdsdfghjhgfdsdfghkjhgfdsdfghjhgfdsdfghjhgfdsdfghkjhgfdsdfghjhgfdsdfghjhgfdsdfghkjhgfdsdfghjhgfdsdfghjhgfdsdfghkjhgfdsdfghjhgfdsdfghjhgfdsdfghkjhgfdsdfghjhgfdsdfghjhgfdsdfghkjhgfdsdfghjhgfdsdfghjhgfdsdfghkjhgfdsdfghjhgfdsdfghjhgfdsdfghkjhgfdsdfghjhgfdsdfghjhgfdsdfghkjhgfdsdfghjhgfdsdfghjhgfdsdfghkjhgfdsdfghjhgfdsdfghjhgfdsdfghkjhgfdsdfghjhgfdsdfghjhgfdsdfghkjhgfdsdfghjhgfdsdfghjhgfdsdfghkjhgfdsdfghjhgfdsdfghjhgfdsdfghkjhgfdsdfghjhgfdsdfghjhgfdsdfghkjhgfdsdfghjhgfdsdfghjhgfdsdfghkjhgfdsdfghjhgfdsdfghjhgfdsdfghkjhgfdsdfghjhgfdsdfghjhgfdsdfghkjhgfdsdfghjhgfdsdfghjhgfdsdfghkjhgfdsdfghjhgfdsdfghjhgfdsdfghkjhgfdsdfghjhgfdsdfghjhgfdsdfghkjhgfdsdfghjhgfdsdfghjhgfdsdfghkjhgfdsdfghjhgfdsdfghjhgfdsdfghkjhgfdsdfghjhgfdsdfghjhgfdsdfghkjhgfdsdfghjhgfdsdfghjhgfdsdfghkjhgfdsdfghjhgfdsdfghjhgfdsdfghkjhgfdsdfghjhgfdsdfghjhgfdsdfghkjhgfdsdfghjhgfdsdfghjhgfdsdfghkjhgfdsdfghjhgfdsdfghjhgfdsdfghkjhgfdsdfghjhgfdsdfghjhgfdsdfghkjhgfdsdfghjhgfdsdfghjhgfdsdfghkjhgfdsdfghjhgfdsdfghjhgfdsdfghkjhgfdsdfghjhgfdsdfghjhgfdsdfghkjhgfdsdfghjhgfdsdfghjhgfdsdfghkjhgfdsdfghjhgfdsdfghjhgfdsdfghkjhgfdsdfghjhgfdsdfghjhgfdsdfghkjhgfdsdfghjhgfdsdfghjhgfdsdfghkjhgfdsdfghjhgfdsdfghjhgfdsdfghkjhgfdsdfghjhgfdsdfghjhgfdsdfghkjhgfdsdfghjhgfdsdfghjhgfdsdfgh'"
      ]
     },
     "execution_count": 12,
     "metadata": {},
     "output_type": "execute_result"
    }
   ],
   "source": [
    "l"
   ]
  },
  {
   "cell_type": "code",
   "execution_count": null,
   "metadata": {},
   "outputs": [],
   "source": []
  },
  {
   "cell_type": "code",
   "execution_count": null,
   "metadata": {},
   "outputs": [],
   "source": []
  },
  {
   "cell_type": "code",
   "execution_count": null,
   "metadata": {},
   "outputs": [],
   "source": []
  },
  {
   "cell_type": "code",
   "execution_count": null,
   "metadata": {},
   "outputs": [],
   "source": []
  },
  {
   "cell_type": "code",
   "execution_count": null,
   "metadata": {},
   "outputs": [],
   "source": []
  },
  {
   "cell_type": "code",
   "execution_count": null,
   "metadata": {},
   "outputs": [],
   "source": []
  },
  {
   "cell_type": "code",
   "execution_count": null,
   "metadata": {},
   "outputs": [],
   "source": []
  },
  {
   "cell_type": "code",
   "execution_count": null,
   "metadata": {},
   "outputs": [],
   "source": []
  },
  {
   "cell_type": "code",
   "execution_count": null,
   "metadata": {},
   "outputs": [],
   "source": []
  },
  {
   "cell_type": "code",
   "execution_count": null,
   "metadata": {},
   "outputs": [],
   "source": []
  },
  {
   "cell_type": "code",
   "execution_count": null,
   "metadata": {},
   "outputs": [],
   "source": []
  },
  {
   "cell_type": "code",
   "execution_count": null,
   "metadata": {},
   "outputs": [],
   "source": []
  },
  {
   "cell_type": "code",
   "execution_count": null,
   "metadata": {},
   "outputs": [],
   "source": []
  }
 ],
 "metadata": {
  "kernelspec": {
   "display_name": "Python 3",
   "language": "python",
   "name": "python3"
  },
  "language_info": {
   "codemirror_mode": {
    "name": "ipython",
    "version": 3
   },
   "file_extension": ".py",
   "mimetype": "text/x-python",
   "name": "python",
   "nbconvert_exporter": "python",
   "pygments_lexer": "ipython3",
   "version": "3.7.3"
  }
 },
 "nbformat": 4,
 "nbformat_minor": 2
}
